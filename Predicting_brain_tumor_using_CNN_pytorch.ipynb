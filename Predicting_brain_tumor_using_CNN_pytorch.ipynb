{
 "cells": [
  {
   "cell_type": "markdown",
   "id": "2ce01343",
   "metadata": {},
   "source": [
    "## Building CNN model to predict the brain tumor"
   ]
  },
  {
   "cell_type": "markdown",
   "id": "6043370d",
   "metadata": {},
   "source": [
    "#### Data Scource : https://www.kaggle.com/datasets/navoneel/brain-mri-images-for-brain-tumor-detection/data"
   ]
  },
  {
   "cell_type": "code",
   "execution_count": null,
   "id": "5bfb01ab",
   "metadata": {},
   "outputs": [],
   "source": []
  },
  {
   "cell_type": "code",
   "execution_count": 171,
   "id": "dae1601e",
   "metadata": {},
   "outputs": [],
   "source": [
    "import pandas as pd\n",
    "import numpy as np\n",
    "import matplotlib.pyplot as plt\n",
    "%matplotlib inline\n",
    "import os\n",
    "from PIL import Image\n",
    "import random"
   ]
  },
  {
   "cell_type": "code",
   "execution_count": 172,
   "id": "f5f50a8a",
   "metadata": {},
   "outputs": [],
   "source": [
    "categories = {'yes':1,'no':0}"
   ]
  },
  {
   "cell_type": "code",
   "execution_count": 173,
   "id": "b82a264b",
   "metadata": {},
   "outputs": [],
   "source": [
    "images = []\n",
    "for cat,label in categories.items():\n",
    "    folder = cat\n",
    "    for filname in os.listdir(folder):\n",
    "        img_path = os.path.join(folder, filname)\n",
    "        img = Image.open(img_path)\n",
    "        images.append((img,label))        "
   ]
  },
  {
   "cell_type": "code",
   "execution_count": 174,
   "id": "0165b997",
   "metadata": {},
   "outputs": [],
   "source": [
    "import torch\n",
    "import torch.nn as nn\n",
    "import torch.nn.functional as F\n",
    "from torchvision import datasets,transforms\n",
    "from torch.utils.data import DataLoader"
   ]
  },
  {
   "cell_type": "code",
   "execution_count": 175,
   "id": "8167c62d",
   "metadata": {},
   "outputs": [],
   "source": [
    "train_transpose = transforms.Compose([transforms.RandomRotation(10),\n",
    "                                 transforms.RandomHorizontalFlip(),\n",
    "                                 transforms.Resize(224),transforms.CenterCrop(224),\n",
    "                                 transforms.ToTensor(),\n",
    "                                 transforms.Normalize([0.485, 0.456, 0.406],\n",
    "                                 [0.229, 0.224, 0.225])])\n",
    "\n",
    "test_transpose = transforms.Compose([transforms.Resize(224),\n",
    "                                    transforms.CenterCrop(224),\n",
    "                                    transforms.ToTensor(),\n",
    "                                    transforms.Normalize([0.485, 0.456, 0.406],\n",
    "                                 [0.229, 0.224, 0.225])])"
   ]
  },
  {
   "cell_type": "code",
   "execution_count": 176,
   "id": "09057795",
   "metadata": {},
   "outputs": [],
   "source": [
    "random.seed(23)\n",
    "random.shuffle(images)"
   ]
  },
  {
   "cell_type": "code",
   "execution_count": 177,
   "id": "f591be28",
   "metadata": {},
   "outputs": [],
   "source": [
    "images = images[:250]\n",
    "train_im = images[:200]\n",
    "test_im = images[200:]"
   ]
  },
  {
   "cell_type": "code",
   "execution_count": 178,
   "id": "583e5e42",
   "metadata": {},
   "outputs": [],
   "source": [
    "train_vec = []\n",
    "test_vec = []\n",
    "for im in train_im:\n",
    "    tar = im[1]\n",
    "    im = im[0]\n",
    "    im = im.convert('RGB')\n",
    "    im = train_transpose(im)\n",
    "    train_vec.append((im,tar))\n",
    "\n",
    "for im in test_im:\n",
    "    tar = im[1]\n",
    "    im = im[0]\n",
    "    im = im.convert('RGB')\n",
    "    im = test_transpose(im)\n",
    "    test_vec.append((im,tar))\n"
   ]
  },
  {
   "cell_type": "code",
   "execution_count": 179,
   "id": "9d863647",
   "metadata": {},
   "outputs": [],
   "source": [
    "class ConvolutionalNetwork(nn.Module):\n",
    "    def __init__(self):\n",
    "        super().__init__()\n",
    "        self.conv1 = nn.Conv2d(3, 6, 3, 1)\n",
    "        self.conv2 = nn.Conv2d(6, 20, 3, 1)\n",
    "        self.fc1 = nn.Linear(54*54*20, 80)\n",
    "        self.fc2 = nn.Linear(80, 60)\n",
    "        self.fc3 = nn.Linear(60, 40)\n",
    "        self.fc4 = nn.Linear(40, 2)\n",
    "\n",
    "    def forward(self, X):\n",
    "        X = F.relu(self.conv1(X))\n",
    "        X = F.max_pool2d(X, 2, 2)\n",
    "        X = F.relu(self.conv2(X))\n",
    "        X = F.max_pool2d(X, 2, 2)\n",
    "        X = X.view(-1, 54*54*20)\n",
    "        X = F.relu(self.fc1(X))\n",
    "        X = F.relu(self.fc2(X))\n",
    "        X = F.relu(self.fc3(X))\n",
    "        X = self.fc4(X)\n",
    "        return F.log_softmax(X, dim=1)"
   ]
  },
  {
   "cell_type": "code",
   "execution_count": 180,
   "id": "b8af0371",
   "metadata": {},
   "outputs": [
    {
     "data": {
      "text/plain": [
       "ConvolutionalNetwork(\n",
       "  (conv1): Conv2d(3, 6, kernel_size=(3, 3), stride=(1, 1))\n",
       "  (conv2): Conv2d(6, 20, kernel_size=(3, 3), stride=(1, 1))\n",
       "  (fc1): Linear(in_features=58320, out_features=80, bias=True)\n",
       "  (fc2): Linear(in_features=80, out_features=60, bias=True)\n",
       "  (fc3): Linear(in_features=60, out_features=40, bias=True)\n",
       "  (fc4): Linear(in_features=40, out_features=2, bias=True)\n",
       ")"
      ]
     },
     "execution_count": 180,
     "metadata": {},
     "output_type": "execute_result"
    }
   ],
   "source": [
    "torch.manual_seed(101)\n",
    "CNNmodel = ConvolutionalNetwork()\n",
    "criterion = nn.CrossEntropyLoss()\n",
    "optimizer = torch.optim.Adam(CNNmodel.parameters(), lr=0.001)\n",
    "CNNmodel"
   ]
  },
  {
   "cell_type": "code",
   "execution_count": 181,
   "id": "9f17db8f",
   "metadata": {},
   "outputs": [],
   "source": [
    "torch.manual_seed(42)\n",
    "train_loader = DataLoader(train_vec, batch_size=10, shuffle=True)\n",
    "test_loader = DataLoader(test_vec, batch_size=10, shuffle=True)"
   ]
  },
  {
   "cell_type": "code",
   "execution_count": 182,
   "id": "b3c78797",
   "metadata": {},
   "outputs": [
    {
     "name": "stdout",
     "output_type": "stream",
     "text": [
      "epoch:  0  batch:   10 [   100/20]  loss: 0.53861612  accuracy:  58.000%\n",
      "epoch:  0  batch:   20 [   200/20]  loss: 0.70458353  accuracy:  67.500%\n",
      "epoch:  1  batch:   10 [   100/20]  loss: 0.40429217  accuracy:  67.000%\n",
      "epoch:  1  batch:   20 [   200/20]  loss: 0.37451231  accuracy:  75.500%\n",
      "epoch:  2  batch:   10 [   100/20]  loss: 0.44430503  accuracy:  83.000%\n",
      "epoch:  2  batch:   20 [   200/20]  loss: 0.19165871  accuracy:  84.500%\n",
      "epoch:  3  batch:   10 [   100/20]  loss: 0.14145952  accuracy:  92.000%\n",
      "epoch:  3  batch:   20 [   200/20]  loss: 0.60684186  accuracy:  91.500%\n",
      "epoch:  4  batch:   10 [   100/20]  loss: 0.06139741  accuracy:  96.000%\n",
      "epoch:  4  batch:   20 [   200/20]  loss: 0.12514614  accuracy:  95.500%\n",
      "\n",
      "Duration: 19 seconds\n"
     ]
    }
   ],
   "source": [
    "import time\n",
    "start_time = time.time()\n",
    "\n",
    "epochs = 5\n",
    "\n",
    "train_losses = []\n",
    "test_losses = []\n",
    "train_correct = []\n",
    "test_correct = []\n",
    "\n",
    "for i in range(epochs):\n",
    "    trn_corr = 0\n",
    "    tst_corr = 0\n",
    "    \n",
    "    # Run the training batches\n",
    "    for b, (X_train, y_train) in enumerate(train_loader):\n",
    "        b+=1\n",
    "        # Apply the model\n",
    "        y_pred = CNNmodel(X_train)\n",
    "        loss = criterion(y_pred, y_train)\n",
    " \n",
    "        # Tally the number of correct predictions\n",
    "        predicted = torch.max(y_pred.data, 1)[1]\n",
    "        batch_corr = (predicted == y_train).sum()\n",
    "        trn_corr += batch_corr\n",
    "        \n",
    "        # Update parameters\n",
    "        optimizer.zero_grad()\n",
    "        loss.backward()\n",
    "        optimizer.step()\n",
    "        # Print interim results\n",
    "        if b%10 == 0:\n",
    "            print(f'epoch: {i:2}  batch: {b:4} [{10*b:6}/20]  loss: {loss.item():10.8f}  \\\n",
    "accuracy: {trn_corr.item()*100/(10*b):7.3f}%')\n",
    "\n",
    "    train_losses.append(loss)\n",
    "    train_correct.append(trn_corr)\n",
    "\n",
    "    # Run the testing batches\n",
    "    with torch.no_grad():\n",
    "        for b, (X_test, y_test) in enumerate(test_loader):\n",
    "            # Limit the number of batches\n",
    "            # Apply the model\n",
    "            y_val = CNNmodel(X_test)\n",
    "\n",
    "            # Tally the number of correct predictions\n",
    "            predicted = torch.max(y_val.data, 1)[1] \n",
    "            tst_corr += (predicted == y_test).sum()\n",
    "\n",
    "    loss = criterion(y_val, y_test)\n",
    "    test_losses.append(loss)\n",
    "    test_correct.append(tst_corr)\n",
    "\n",
    "print(f'\\nDuration: {time.time() - start_time:.0f} seconds') # print the time elapsed"
   ]
  },
  {
   "cell_type": "code",
   "execution_count": 183,
   "id": "44d741f9",
   "metadata": {},
   "outputs": [
    {
     "data": {
      "image/png": "[encoded data removed]",
      "text/plain": [
       "<Figure size 640x480 with 1 Axes>"
      ]
     },
     "metadata": {},
     "output_type": "display_data"
    }
   ],
   "source": [
    "# Convert train_losses and test_losses to lists of floats\n",
    "train_losses_float = [loss.detach().item() for loss in train_losses]\n",
    "test_losses_float = [loss.detach().item() for loss in test_losses]\n",
    "\n",
    "# Plot the values\n",
    "import matplotlib.pyplot as plt\n",
    "\n",
    "plt.plot(train_losses_float, label='Training Loss')\n",
    "plt.plot(test_losses_float, label='Validation Loss')\n",
    "plt.title('Loss at the End of Each Epoch')\n",
    "plt.xlabel('Epoch')\n",
    "plt.ylabel('Loss')\n",
    "plt.legend()\n",
    "plt.show()\n"
   ]
  },
  {
   "cell_type": "code",
   "execution_count": 184,
   "id": "928fad02",
   "metadata": {},
   "outputs": [
    {
     "name": "stdout",
     "output_type": "stream",
     "text": [
      "[tensor(26), tensor(34), tensor(36), tensor(29), tensor(38)]\n",
      "Test accuracy: 76.000%\n"
     ]
    }
   ],
   "source": [
    "print(test_correct)\n",
    "print(f'Test accuracy: {test_correct[-1].item()*100/50:.3f}%')"
   ]
  },
  {
   "cell_type": "code",
   "execution_count": 185,
   "id": "341bac8b",
   "metadata": {},
   "outputs": [
    {
     "name": "stdout",
     "output_type": "stream",
     "text": [
      "[tensor(26), tensor(34), tensor(36), tensor(29), tensor(38)]\n",
      "Test accuracy: 95.500%\n"
     ]
    }
   ],
   "source": [
    "print(test_correct)\n",
    "print(f'Test accuracy: {train_correct[-1].item()*100/200:.3f}%')"
   ]
  },
  {
   "cell_type": "markdown",
   "id": "0bbc10ba",
   "metadata": {},
   "source": [
    "### model building using a Pretrained model   "
   ]
  },
  {
   "cell_type": "code",
   "execution_count": 60,
   "id": "afa073e8",
   "metadata": {},
   "outputs": [],
   "source": [
    "import torchvision\n",
    "from torchvision.models import get_model, get_model_weights, list_models\n",
    "import torchvision.models as models"
   ]
  },
  {
   "cell_type": "code",
   "execution_count": 61,
   "id": "7b2adff0",
   "metadata": {
    "scrolled": true
   },
   "outputs": [
    {
     "name": "stdout",
     "output_type": "stream",
     "text": [
      "All available models: ['alexnet', 'convnext_base', 'convnext_large', 'convnext_small', 'convnext_tiny', 'deeplabv3_mobilenet_v3_large', 'deeplabv3_resnet101', 'deeplabv3_resnet50', 'densenet121', 'densenet161', 'densenet169', 'densenet201', 'efficientnet_b0', 'efficientnet_b1', 'efficientnet_b2', 'efficientnet_b3', 'efficientnet_b4', 'efficientnet_b5', 'efficientnet_b6', 'efficientnet_b7', 'efficientnet_v2_l', 'efficientnet_v2_m', 'efficientnet_v2_s', 'fasterrcnn_mobilenet_v3_large_320_fpn', 'fasterrcnn_mobilenet_v3_large_fpn', 'fasterrcnn_resnet50_fpn', 'fasterrcnn_resnet50_fpn_v2', 'fcn_resnet101', 'fcn_resnet50', 'fcos_resnet50_fpn', 'googlenet', 'inception_v3', 'keypointrcnn_resnet50_fpn', 'lraspp_mobilenet_v3_large', 'maskrcnn_resnet50_fpn', 'maskrcnn_resnet50_fpn_v2', 'maxvit_t', 'mc3_18', 'mnasnet0_5', 'mnasnet0_75', 'mnasnet1_0', 'mnasnet1_3', 'mobilenet_v2', 'mobilenet_v3_large', 'mobilenet_v3_small', 'mvit_v1_b', 'mvit_v2_s', 'quantized_googlenet', 'quantized_inception_v3', 'quantized_mobilenet_v2', 'quantized_mobilenet_v3_large', 'quantized_resnet18', 'quantized_resnet50', 'quantized_resnext101_32x8d', 'quantized_resnext101_64x4d', 'quantized_shufflenet_v2_x0_5', 'quantized_shufflenet_v2_x1_0', 'quantized_shufflenet_v2_x1_5', 'quantized_shufflenet_v2_x2_0', 'r2plus1d_18', 'r3d_18', 'raft_large', 'raft_small', 'regnet_x_16gf', 'regnet_x_1_6gf', 'regnet_x_32gf', 'regnet_x_3_2gf', 'regnet_x_400mf', 'regnet_x_800mf', 'regnet_x_8gf', 'regnet_y_128gf', 'regnet_y_16gf', 'regnet_y_1_6gf', 'regnet_y_32gf', 'regnet_y_3_2gf', 'regnet_y_400mf', 'regnet_y_800mf', 'regnet_y_8gf', 'resnet101', 'resnet152', 'resnet18', 'resnet34', 'resnet50', 'resnext101_32x8d', 'resnext101_64x4d', 'resnext50_32x4d', 'retinanet_resnet50_fpn', 'retinanet_resnet50_fpn_v2', 's3d', 'shufflenet_v2_x0_5', 'shufflenet_v2_x1_0', 'shufflenet_v2_x1_5', 'shufflenet_v2_x2_0', 'squeezenet1_0', 'squeezenet1_1', 'ssd300_vgg16', 'ssdlite320_mobilenet_v3_large', 'swin_b', 'swin_s', 'swin_t', 'swin_v2_b', 'swin_v2_s', 'swin_v2_t', 'vgg11', 'vgg11_bn', 'vgg13', 'vgg13_bn', 'vgg16', 'vgg16_bn', 'vgg19', 'vgg19_bn', 'vit_b_16', 'vit_b_32', 'vit_h_14', 'vit_l_16', 'vit_l_32', 'wide_resnet101_2', 'wide_resnet50_2']\n"
     ]
    }
   ],
   "source": [
    "# List all available models\n",
    "all_models = list_models()\n",
    "print(f\"All available models: {all_models}\")\n",
    "\n",
    "# List only classification models from torchvision.models\n",
    "classification_models = list_models(module=torchvision.models)"
   ]
  },
  {
   "cell_type": "code",
   "execution_count": 62,
   "id": "8fbde86a",
   "metadata": {},
   "outputs": [
    {
     "name": "stderr",
     "output_type": "stream",
     "text": [
      "C:\\Users\\ramac\\anaconda3\\anaconda\\anaconda\\envs\\pytorchenv\\lib\\site-packages\\torchvision\\models\\_utils.py:209: UserWarning: The parameter 'pretrained' is deprecated since 0.13 and may be removed in the future, please use 'weights' instead.\n",
      "  f\"The parameter '{pretrained_param}' is deprecated since 0.13 and may be removed in the future, \"\n",
      "C:\\Users\\ramac\\anaconda3\\anaconda\\anaconda\\envs\\pytorchenv\\lib\\site-packages\\torchvision\\models\\_utils.py:223: UserWarning: Arguments other than a weight enum or `None` for 'weights' are deprecated since 0.13 and may be removed in the future. The current behavior is equivalent to passing `weights=ResNet50_Weights.IMAGENET1K_V1`. You can also use `weights=ResNet50_Weights.DEFAULT` to get the most up-to-date weights.\n",
      "  warnings.warn(msg)\n",
      "C:\\Users\\ramac\\anaconda3\\anaconda\\anaconda\\envs\\pytorchenv\\lib\\site-packages\\torchvision\\models\\_utils.py:223: UserWarning: Arguments other than a weight enum or `None` for 'weights' are deprecated since 0.13 and may be removed in the future. The current behavior is equivalent to passing `weights=AlexNet_Weights.IMAGENET1K_V1`. You can also use `weights=AlexNet_Weights.DEFAULT` to get the most up-to-date weights.\n",
      "  warnings.warn(msg)\n"
     ]
    }
   ],
   "source": [
    "model = models.resnet50(pretrained = True)\n",
    "model1 = models.alexnet(pretrained = True)"
   ]
  },
  {
   "cell_type": "code",
   "execution_count": 63,
   "id": "1d58735c",
   "metadata": {},
   "outputs": [
    {
     "data": {
      "text/plain": [
       "AlexNet(\n",
       "  (features): Sequential(\n",
       "    (0): Conv2d(3, 64, kernel_size=(11, 11), stride=(4, 4), padding=(2, 2))\n",
       "    (1): ReLU(inplace=True)\n",
       "    (2): MaxPool2d(kernel_size=3, stride=2, padding=0, dilation=1, ceil_mode=False)\n",
       "    (3): Conv2d(64, 192, kernel_size=(5, 5), stride=(1, 1), padding=(2, 2))\n",
       "    (4): ReLU(inplace=True)\n",
       "    (5): MaxPool2d(kernel_size=3, stride=2, padding=0, dilation=1, ceil_mode=False)\n",
       "    (6): Conv2d(192, 384, kernel_size=(3, 3), stride=(1, 1), padding=(1, 1))\n",
       "    (7): ReLU(inplace=True)\n",
       "    (8): Conv2d(384, 256, kernel_size=(3, 3), stride=(1, 1), padding=(1, 1))\n",
       "    (9): ReLU(inplace=True)\n",
       "    (10): Conv2d(256, 256, kernel_size=(3, 3), stride=(1, 1), padding=(1, 1))\n",
       "    (11): ReLU(inplace=True)\n",
       "    (12): MaxPool2d(kernel_size=3, stride=2, padding=0, dilation=1, ceil_mode=False)\n",
       "  )\n",
       "  (avgpool): AdaptiveAvgPool2d(output_size=(6, 6))\n",
       "  (classifier): Sequential(\n",
       "    (0): Dropout(p=0.5, inplace=False)\n",
       "    (1): Linear(in_features=9216, out_features=4096, bias=True)\n",
       "    (2): ReLU(inplace=True)\n",
       "    (3): Dropout(p=0.5, inplace=False)\n",
       "    (4): Linear(in_features=4096, out_features=4096, bias=True)\n",
       "    (5): ReLU(inplace=True)\n",
       "    (6): Linear(in_features=4096, out_features=1000, bias=True)\n",
       "  )\n",
       ")"
      ]
     },
     "execution_count": 63,
     "metadata": {},
     "output_type": "execute_result"
    }
   ],
   "source": [
    "model1"
   ]
  },
  {
   "cell_type": "code",
   "execution_count": 64,
   "id": "e1867ecc",
   "metadata": {},
   "outputs": [],
   "source": [
    "torch.manual_seed(23)\n",
    "model1.classifier = nn.Sequential(nn.Linear(9216,1024),nn.ReLU(),nn.Dropout(0.4),nn.Linear(1024,2),nn.LogSoftmax(dim=1))"
   ]
  },
  {
   "cell_type": "code",
   "execution_count": 65,
   "id": "1fce0b9e",
   "metadata": {},
   "outputs": [],
   "source": [
    "criterion = nn.CrossEntropyLoss()\n",
    "optimizer = torch.optim.Adam(model1.classifier.parameters(), lr=0.001)"
   ]
  },
  {
   "cell_type": "code",
   "execution_count": 66,
   "id": "fa148603",
   "metadata": {},
   "outputs": [
    {
     "data": {
      "text/plain": [
       "AlexNet(\n",
       "  (features): Sequential(\n",
       "    (0): Conv2d(3, 64, kernel_size=(11, 11), stride=(4, 4), padding=(2, 2))\n",
       "    (1): ReLU(inplace=True)\n",
       "    (2): MaxPool2d(kernel_size=3, stride=2, padding=0, dilation=1, ceil_mode=False)\n",
       "    (3): Conv2d(64, 192, kernel_size=(5, 5), stride=(1, 1), padding=(2, 2))\n",
       "    (4): ReLU(inplace=True)\n",
       "    (5): MaxPool2d(kernel_size=3, stride=2, padding=0, dilation=1, ceil_mode=False)\n",
       "    (6): Conv2d(192, 384, kernel_size=(3, 3), stride=(1, 1), padding=(1, 1))\n",
       "    (7): ReLU(inplace=True)\n",
       "    (8): Conv2d(384, 256, kernel_size=(3, 3), stride=(1, 1), padding=(1, 1))\n",
       "    (9): ReLU(inplace=True)\n",
       "    (10): Conv2d(256, 256, kernel_size=(3, 3), stride=(1, 1), padding=(1, 1))\n",
       "    (11): ReLU(inplace=True)\n",
       "    (12): MaxPool2d(kernel_size=3, stride=2, padding=0, dilation=1, ceil_mode=False)\n",
       "  )\n",
       "  (avgpool): AdaptiveAvgPool2d(output_size=(6, 6))\n",
       "  (classifier): Sequential(\n",
       "    (0): Linear(in_features=9216, out_features=1024, bias=True)\n",
       "    (1): ReLU()\n",
       "    (2): Dropout(p=0.4, inplace=False)\n",
       "    (3): Linear(in_features=1024, out_features=2, bias=True)\n",
       "    (4): LogSoftmax(dim=1)\n",
       "  )\n",
       ")"
      ]
     },
     "execution_count": 66,
     "metadata": {},
     "output_type": "execute_result"
    }
   ],
   "source": [
    "model1"
   ]
  },
  {
   "cell_type": "code",
   "execution_count": 67,
   "id": "8ca55a10",
   "metadata": {},
   "outputs": [
    {
     "name": "stdout",
     "output_type": "stream",
     "text": [
      "epoch:  0  batch:   10 [   100/20]  loss: 3.95274973  accuracy:  60.000%\n",
      "epoch:  0  batch:   20 [   200/20]  loss: 3.52093053  accuracy:  63.500%\n",
      "epoch:  1  batch:   10 [   100/20]  loss: 1.02243114  accuracy:  88.000%\n",
      "epoch:  1  batch:   20 [   200/20]  loss: 0.00425269  accuracy:  86.500%\n",
      "epoch:  2  batch:   10 [   100/20]  loss: 0.60409057  accuracy:  87.000%\n",
      "epoch:  2  batch:   20 [   200/20]  loss: 0.05798895  accuracy:  88.500%\n",
      "epoch:  3  batch:   10 [   100/20]  loss: 0.00447879  accuracy:  96.000%\n",
      "epoch:  3  batch:   20 [   200/20]  loss: 0.23036489  accuracy:  96.500%\n",
      "epoch:  4  batch:   10 [   100/20]  loss: 0.14632308  accuracy:  96.000%\n",
      "epoch:  4  batch:   20 [   200/20]  loss: 0.11512017  accuracy:  96.000%\n",
      "epoch:  5  batch:   10 [   100/20]  loss: 0.01302300  accuracy:  99.000%\n",
      "epoch:  5  batch:   20 [   200/20]  loss: 0.02050959  accuracy:  99.000%\n",
      "epoch:  6  batch:   10 [   100/20]  loss: 0.00670001  accuracy: 100.000%\n",
      "epoch:  6  batch:   20 [   200/20]  loss: 0.00260765  accuracy:  99.500%\n",
      "epoch:  7  batch:   10 [   100/20]  loss: 0.00011413  accuracy:  98.000%\n",
      "epoch:  7  batch:   20 [   200/20]  loss: 0.10389862  accuracy:  97.000%\n",
      "\n",
      "Duration: 85 seconds\n"
     ]
    }
   ],
   "source": [
    "import time\n",
    "start_time = time.time()\n",
    "\n",
    "epochs = 8\n",
    "\n",
    "train_losses = []\n",
    "test_losses = []\n",
    "train_correct = []\n",
    "test_correct = []\n",
    "\n",
    "for i in range(epochs):\n",
    "    trn_corr = 0\n",
    "    tst_corr = 0\n",
    "    \n",
    "    # Run the training batches\n",
    "    for b, (X_train, y_train) in enumerate(train_loader):\n",
    "        b+=1\n",
    "        # Apply the model\n",
    "        y_pred = model1(X_train)\n",
    "        loss = criterion(y_pred, y_train)\n",
    " \n",
    "        # Tally the number of correct predictions\n",
    "        predicted = torch.max(y_pred.data, 1)[1]\n",
    "        batch_corr = (predicted == y_train).sum()\n",
    "        trn_corr += batch_corr\n",
    "        \n",
    "        # Update parameters\n",
    "        optimizer.zero_grad()\n",
    "        loss.backward()\n",
    "        optimizer.step()\n",
    "        # Print interim results\n",
    "        if b%10 == 0:\n",
    "            print(f'epoch: {i:2}  batch: {b:4} [{10*b:6}/20]  loss: {loss.item():10.8f}  \\\n",
    "accuracy: {trn_corr.item()*100/(10*b):7.3f}%')\n",
    "\n",
    "    train_losses.append(loss)\n",
    "    train_correct.append(trn_corr)\n",
    "\n",
    "    # Run the testing batches\n",
    "    with torch.no_grad():\n",
    "        for b, (X_test, y_test) in enumerate(test_loader):\n",
    "            # Limit the number of batches\n",
    "            # Apply the model\n",
    "            y_val = model1(X_test)\n",
    "\n",
    "            # Tally the number of correct predictions\n",
    "            predicted = torch.max(y_val.data, 1)[1] \n",
    "            tst_corr += (predicted == y_test).sum()\n",
    "\n",
    "    loss = criterion(y_val, y_test)\n",
    "    test_losses.append(loss)\n",
    "    test_correct.append(tst_corr)\n",
    "\n",
    "print(f'\\nDuration: {time.time() - start_time:.0f} seconds') # print the time elapsed"
   ]
  },
  {
   "cell_type": "code",
   "execution_count": 68,
   "id": "5213710b",
   "metadata": {},
   "outputs": [
    {
     "data": {
      "image/png": "[encoded data removed]",
      "text/plain": [
       "<Figure size 640x480 with 1 Axes>"
      ]
     },
     "metadata": {},
     "output_type": "display_data"
    }
   ],
   "source": [
    "# Convert train_losses and test_losses to lists of floats\n",
    "train_losses_float = [loss.detach().item() for loss in train_losses]\n",
    "test_losses_float = [loss.detach().item() for loss in test_losses]\n",
    "\n",
    "# Plot the values\n",
    "import matplotlib.pyplot as plt\n",
    "\n",
    "plt.plot(train_losses_float, label='Training Loss')\n",
    "plt.plot(test_losses_float, label='Validation Loss')\n",
    "plt.title('Loss at the End of Each Epoch')\n",
    "plt.xlabel('Epoch')\n",
    "plt.ylabel('Loss')\n",
    "plt.legend()\n",
    "plt.show()\n"
   ]
  },
  {
   "cell_type": "code",
   "execution_count": 69,
   "id": "7e6ff607",
   "metadata": {},
   "outputs": [
    {
     "name": "stdout",
     "output_type": "stream",
     "text": [
      "[tensor(32), tensor(38), tensor(44), tensor(35), tensor(37), tensor(41), tensor(40), tensor(37)]\n",
      "Test accuracy: 74.000%\n"
     ]
    }
   ],
   "source": [
    "print(test_correct)\n",
    "print(f'Test accuracy: {test_correct[-1].item()*100/50:.3f}%')"
   ]
  },
  {
   "cell_type": "code",
   "execution_count": 71,
   "id": "1023a8f5",
   "metadata": {},
   "outputs": [
    {
     "name": "stdout",
     "output_type": "stream",
     "text": [
      "[tensor(127), tensor(173), tensor(177), tensor(193), tensor(192), tensor(198), tensor(199), tensor(194)]\n",
      "Test accuracy: 97.000%\n"
     ]
    }
   ],
   "source": [
    "print(train_correct)\n",
    "print(f'Test accuracy: {train_correct[-1].item()*100/200:.3f}%')"
   ]
  },
  {
   "cell_type": "code",
   "execution_count": null,
   "id": "c59fe9a8",
   "metadata": {},
   "outputs": [],
   "source": []
  }
 ],
 "metadata": {
  "kernelspec": {
   "display_name": "Python 3 (ipykernel)",
   "language": "python",
   "name": "python3"
  },
  "language_info": {
   "codemirror_mode": {
    "name": "ipython",
    "version": 3
   },
   "file_extension": ".py",
   "mimetype": "text/x-python",
   "name": "python",
   "nbconvert_exporter": "python",
   "pygments_lexer": "ipython3",
   "version": "3.7.3"
  }
 },
 "nbformat": 4,
 "nbformat_minor": 5
}
